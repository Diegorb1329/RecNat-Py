{
 "cells": [
  {
   "cell_type": "markdown",
   "metadata": {
    "id": "qBD-FJJnFNQG"
   },
   "source": [
    "# **Clonación del Repositorio en COLAB**\n",
    "\n",
    "Este paso puede tardar algunos minutos Se recomienda ampliamente correr este apartado en conjunto minimizando las celdas de código con la pestaña lateral\n",
    "\n",
    "En caso de un retraso excesivo en el tiempo de espera (mayor a 5 minutos) puedes hacer lo siguiente:\n",
    "\n",
    "\n",
    "\n",
    "*   Revisar tu conexión a Internet\n",
    "*   Clonar el repositorio en tu entorno local\n",
    "*   Contactar al [administrador]()\n",
    "\n",
    "\n",
    "Nota: Este apartado solicitará reiniciar el entorno de ejecución por lo que *se debe ejecutar 2 veces*"
   ]
  },
  {
   "cell_type": "code",
   "execution_count": 1,
   "metadata": {
    "colab": {
     "base_uri": "https://localhost:8080/"
    },
    "executionInfo": {
     "elapsed": 234,
     "status": "ok",
     "timestamp": 1722334442536,
     "user": {
      "displayName": "Diego Rivera Buendia",
      "userId": "13268057117032771901"
     },
     "user_tz": -120
    },
    "id": "SbqvUlzCEnfh",
    "outputId": "0dcd077a-ae15-42c1-cb6d-0b31f18bf1d7"
   },
   "outputs": [
    {
     "name": "stdout",
     "output_type": "stream",
     "text": [
      "fatal: la ruta de destino 'RecNat-Py' ya existe y no es un directorio vacío.\n",
      "/Users/DiegoRB/Desktop/Tesis/REPO/RecNat-Py/Libretas_IRNR/RecNat-Py\n"
     ]
    }
   ],
   "source": [
    "!git clone https://github.com/Diegorb1329/RecNat-Py.git\n",
    "%cd RecNat-Py"
   ]
  },
  {
   "cell_type": "code",
   "execution_count": 2,
   "metadata": {
    "colab": {
     "base_uri": "https://localhost:8080/"
    },
    "executionInfo": {
     "elapsed": 228,
     "status": "ok",
     "timestamp": 1722334445486,
     "user": {
      "displayName": "Diego Rivera Buendia",
      "userId": "13268057117032771901"
     },
     "user_tz": -120
    },
    "id": "pQjCu8zNF9G7",
    "outputId": "0c490187-6d55-4699-9f55-9329dcde2842"
   },
   "outputs": [
    {
     "name": "stdout",
     "output_type": "stream",
     "text": [
      "total 48\n",
      "drwxr-xr-x  11 DiegoRB  staff    352 31 jul 10:47 \u001b[34m.\u001b[m\u001b[m\n",
      "drwxr-xr-x@ 13 DiegoRB  staff    416 31 jul 11:37 \u001b[34m..\u001b[m\u001b[m\n",
      "drwxr-xr-x  12 DiegoRB  staff    384 31 jul 10:46 \u001b[34m.git\u001b[m\u001b[m\n",
      "-rw-r--r--   1 DiegoRB  staff    311 31 jul 10:36 .gitignore\n",
      "drwxr-xr-x   3 DiegoRB  staff     96 31 jul 10:37 \u001b[34m.ipynb_checkpoints\u001b[m\u001b[m\n",
      "drwxr-xr-x   6 DiegoRB  staff    192 31 jul 10:47 \u001b[34mEMS_CONAGUA\u001b[m\u001b[m\n",
      "-rw-r--r--   1 DiegoRB  staff  11357 31 jul 10:36 LICENSE\n",
      "drwxr-xr-x  11 DiegoRB  staff    352 31 jul 10:47 \u001b[34mLibretas_IRNR\u001b[m\u001b[m\n",
      "-rw-r--r--   1 DiegoRB  staff    322 31 jul 10:36 README.md\n",
      "-rw-r--r--   1 DiegoRB  staff    695 31 jul 10:36 Requirements.txt\n",
      "drwxr-xr-x   3 DiegoRB  staff     96 31 jul 10:47 \u001b[34mVarios\u001b[m\u001b[m\n"
     ]
    }
   ],
   "source": [
    "!ls -la # Revisar que efectivamente se hizo la conexión al repo"
   ]
  },
  {
   "cell_type": "code",
   "execution_count": 3,
   "metadata": {
    "colab": {
     "base_uri": "https://localhost:8080/"
    },
    "executionInfo": {
     "elapsed": 237,
     "status": "ok",
     "timestamp": 1722334448053,
     "user": {
      "displayName": "Diego Rivera Buendia",
      "userId": "13268057117032771901"
     },
     "user_tz": -120
    },
    "id": "alXWGWT_F9fn",
    "outputId": "093cf2c0-4444-46da-af38-581613c910b1"
   },
   "outputs": [
    {
     "data": {
      "text/plain": [
       "['# RecNat-Py',\n",
       " 'El presente es repositorio de acceso público dedicado a crear, manenter, almacenar y distribuir herramientas y flujos de trabajo para el procesamiento y  análisis de datos ambientales basado en las necesidades de la tira curricular para Ingeniero en Recursos Naturales de la Universidad Autónoma Chapingo. ']"
      ]
     },
     "execution_count": 3,
     "metadata": {},
     "output_type": "execute_result"
    }
   ],
   "source": [
    "# Mostrar el contenido del archivo README.md Estos archivos generalmente contienen una breve introducción al repositorio, su contenido y funciones\n",
    "Leer = !cat README.md\n",
    "Leer"
   ]
  },
  {
   "cell_type": "code",
   "execution_count": 4,
   "metadata": {
    "colab": {
     "base_uri": "https://localhost:8080/"
    },
    "executionInfo": {
     "elapsed": 3447,
     "status": "ok",
     "timestamp": 1722334454050,
     "user": {
      "displayName": "Diego Rivera Buendia",
      "userId": "13268057117032771901"
     },
     "user_tz": -120
    },
    "id": "vMFczLBgGNwy",
    "outputId": "87628ebb-2bcc-40bc-de95-8b05669bd887",
    "scrolled": true
   },
   "outputs": [
    {
     "name": "stdout",
     "output_type": "stream",
     "text": [
      "Requirement already satisfied: affine==2.4.0 in /Users/DiegoRB/anaconda3/envs/RecNat-Py/lib/python3.9/site-packages (from -r Requirements.txt (line 1)) (2.4.0)\n",
      "Requirement already satisfied: arrow==1.3.0 in /Users/DiegoRB/anaconda3/envs/RecNat-Py/lib/python3.9/site-packages (from -r Requirements.txt (line 2)) (1.3.0)\n",
      "Requirement already satisfied: blessings==1.7 in /Users/DiegoRB/anaconda3/envs/RecNat-Py/lib/python3.9/site-packages (from -r Requirements.txt (line 3)) (1.7)\n",
      "Requirement already satisfied: click-plugins==1.1.1 in /Users/DiegoRB/anaconda3/envs/RecNat-Py/lib/python3.9/site-packages (from -r Requirements.txt (line 4)) (1.1.1)\n",
      "Requirement already satisfied: cligj==0.7.2 in /Users/DiegoRB/anaconda3/envs/RecNat-Py/lib/python3.9/site-packages (from -r Requirements.txt (line 5)) (0.7.2)\n",
      "Requirement already satisfied: DateTime==5.4 in /Users/DiegoRB/anaconda3/envs/RecNat-Py/lib/python3.9/site-packages (from -r Requirements.txt (line 6)) (5.4)\n",
      "Requirement already satisfied: earthengine-api==0.1.409 in /Users/DiegoRB/anaconda3/envs/RecNat-Py/lib/python3.9/site-packages (from -r Requirements.txt (line 7)) (0.1.409)\n",
      "Requirement already satisfied: ee==0.2 in /Users/DiegoRB/anaconda3/envs/RecNat-Py/lib/python3.9/site-packages (from -r Requirements.txt (line 8)) (0.2)\n",
      "Requirement already satisfied: ffmpeg-python==0.2.0 in /Users/DiegoRB/anaconda3/envs/RecNat-Py/lib/python3.9/site-packages (from -r Requirements.txt (line 9)) (0.2.0)\n",
      "Requirement already satisfied: fiona==1.9.5 in /Users/DiegoRB/anaconda3/envs/RecNat-Py/lib/python3.9/site-packages (from -r Requirements.txt (line 10)) (1.9.5)\n",
      "Requirement already satisfied: folium==0.16.0 in /Users/DiegoRB/anaconda3/envs/RecNat-Py/lib/python3.9/site-packages (from -r Requirements.txt (line 11)) (0.16.0)\n",
      "Requirement already satisfied: fonttools==4.25.0 in /Users/DiegoRB/anaconda3/envs/RecNat-Py/lib/python3.9/site-packages (from -r Requirements.txt (line 12)) (4.25.0)\n",
      "Requirement already satisfied: fqdn==1.5.1 in /Users/DiegoRB/anaconda3/envs/RecNat-Py/lib/python3.9/site-packages (from -r Requirements.txt (line 13)) (1.5.1)\n",
      "Requirement already satisfied: geocoder==1.38.1 in /Users/DiegoRB/anaconda3/envs/RecNat-Py/lib/python3.9/site-packages (from -r Requirements.txt (line 14)) (1.38.1)\n",
      "Requirement already satisfied: geopandas==0.13.2 in /Users/DiegoRB/anaconda3/envs/RecNat-Py/lib/python3.9/site-packages (from -r Requirements.txt (line 15)) (0.13.2)\n",
      "Requirement already satisfied: google-api-core==2.19.1 in /Users/DiegoRB/anaconda3/envs/RecNat-Py/lib/python3.9/site-packages (from -r Requirements.txt (line 16)) (2.19.1)\n",
      "Requirement already satisfied: google-auth==2.30.0 in /Users/DiegoRB/anaconda3/envs/RecNat-Py/lib/python3.9/site-packages (from -r Requirements.txt (line 17)) (2.30.0)\n",
      "Requirement already satisfied: isoduration==20.11.0 in /Users/DiegoRB/anaconda3/envs/RecNat-Py/lib/python3.9/site-packages (from -r Requirements.txt (line 18)) (20.11.0)\n",
      "Requirement already satisfied: jsonpointer==3.0.0 in /Users/DiegoRB/anaconda3/envs/RecNat-Py/lib/python3.9/site-packages (from -r Requirements.txt (line 19)) (3.0.0)\n",
      "Requirement already satisfied: jupyter-leaflet==0.19.1 in /Users/DiegoRB/anaconda3/envs/RecNat-Py/lib/python3.9/site-packages (from -r Requirements.txt (line 20)) (0.19.1)\n",
      "Requirement already satisfied: munkres==1.1.4 in /Users/DiegoRB/anaconda3/envs/RecNat-Py/lib/python3.9/site-packages (from -r Requirements.txt (line 21)) (1.1.4)\n",
      "Requirement already satisfied: nbimporter==0.3.4 in /Users/DiegoRB/anaconda3/envs/RecNat-Py/lib/python3.9/site-packages (from -r Requirements.txt (line 22)) (0.3.4)\n",
      "Requirement already satisfied: ply==3.11 in /Users/DiegoRB/anaconda3/envs/RecNat-Py/lib/python3.9/site-packages (from -r Requirements.txt (line 23)) (3.11)\n",
      "Requirement already satisfied: proto-plus==1.24.0 in /Users/DiegoRB/anaconda3/envs/RecNat-Py/lib/python3.9/site-packages (from -r Requirements.txt (line 24)) (1.24.0)\n",
      "Requirement already satisfied: protobuf==3.20.3 in /Users/DiegoRB/anaconda3/envs/RecNat-Py/lib/python3.9/site-packages (from -r Requirements.txt (line 25)) (3.20.3)\n",
      "Requirement already satisfied: PyCRS==1.0.2 in /Users/DiegoRB/anaconda3/envs/RecNat-Py/lib/python3.9/site-packages (from -r Requirements.txt (line 26)) (1.0.2)\n",
      "Requirement already satisfied: pyproj==3.5.0 in /Users/DiegoRB/anaconda3/envs/RecNat-Py/lib/python3.9/site-packages (from -r Requirements.txt (line 27)) (3.5.0)\n",
      "Requirement already satisfied: PyQt5==5.15.10 in /Users/DiegoRB/anaconda3/envs/RecNat-Py/lib/python3.9/site-packages (from -r Requirements.txt (line 28)) (5.15.10)\n",
      "Requirement already satisfied: rasterio==1.3.10 in /Users/DiegoRB/anaconda3/envs/RecNat-Py/lib/python3.9/site-packages (from -r Requirements.txt (line 29)) (1.3.10)\n",
      "Requirement already satisfied: ratelim==0.1.6 in /Users/DiegoRB/anaconda3/envs/RecNat-Py/lib/python3.9/site-packages (from -r Requirements.txt (line 30)) (0.1.6)\n",
      "Requirement already satisfied: scipy==1.10.1 in /Users/DiegoRB/anaconda3/envs/RecNat-Py/lib/python3.9/site-packages (from -r Requirements.txt (line 31)) (1.10.1)\n",
      "Requirement already satisfied: seaborn==0.13.2 in /Users/DiegoRB/anaconda3/envs/RecNat-Py/lib/python3.9/site-packages (from -r Requirements.txt (line 32)) (0.13.2)\n",
      "Requirement already satisfied: shapely==2.0.3 in /Users/DiegoRB/anaconda3/envs/RecNat-Py/lib/python3.9/site-packages (from -r Requirements.txt (line 33)) (2.0.3)\n",
      "Requirement already satisfied: snuggs==1.4.7 in /Users/DiegoRB/anaconda3/envs/RecNat-Py/lib/python3.9/site-packages (from -r Requirements.txt (line 34)) (1.4.7)\n",
      "Requirement already satisfied: types-python-dateutil==2.9.0.20240316 in /Users/DiegoRB/anaconda3/envs/RecNat-Py/lib/python3.9/site-packages (from -r Requirements.txt (line 35)) (2.9.0.20240316)\n",
      "Requirement already satisfied: uri-template==1.3.0 in /Users/DiegoRB/anaconda3/envs/RecNat-Py/lib/python3.9/site-packages (from -r Requirements.txt (line 36)) (1.3.0)\n",
      "Requirement already satisfied: webcolors==24.6.0 in /Users/DiegoRB/anaconda3/envs/RecNat-Py/lib/python3.9/site-packages (from -r Requirements.txt (line 37)) (24.6.0)\n",
      "Requirement already satisfied: webencodings==0.5.1 in /Users/DiegoRB/anaconda3/envs/RecNat-Py/lib/python3.9/site-packages (from -r Requirements.txt (line 38)) (0.5.1)\n",
      "Requirement already satisfied: xyzservices==2024.4.0 in /Users/DiegoRB/anaconda3/envs/RecNat-Py/lib/python3.9/site-packages (from -r Requirements.txt (line 39)) (2024.4.0)\n",
      "Requirement already satisfied: zope.interface==6.2 in /Users/DiegoRB/anaconda3/envs/RecNat-Py/lib/python3.9/site-packages (from -r Requirements.txt (line 40)) (6.2)\n",
      "Requirement already satisfied: python-dateutil>=2.7.0 in /Users/DiegoRB/anaconda3/envs/RecNat-Py/lib/python3.9/site-packages (from arrow==1.3.0->-r Requirements.txt (line 2)) (2.9.0.post0)\n",
      "Requirement already satisfied: six in /Users/DiegoRB/anaconda3/envs/RecNat-Py/lib/python3.9/site-packages (from blessings==1.7->-r Requirements.txt (line 3)) (1.16.0)\n",
      "Requirement already satisfied: click>=4.0 in /Users/DiegoRB/anaconda3/envs/RecNat-Py/lib/python3.9/site-packages (from click-plugins==1.1.1->-r Requirements.txt (line 4)) (8.1.7)\n",
      "Requirement already satisfied: pytz in /Users/DiegoRB/anaconda3/envs/RecNat-Py/lib/python3.9/site-packages (from DateTime==5.4->-r Requirements.txt (line 6)) (2024.1)\n",
      "Requirement already satisfied: google-cloud-storage in /Users/DiegoRB/anaconda3/envs/RecNat-Py/lib/python3.9/site-packages (from earthengine-api==0.1.409->-r Requirements.txt (line 7)) (2.18.0)\n",
      "Requirement already satisfied: google-api-python-client>=1.12.1 in /Users/DiegoRB/anaconda3/envs/RecNat-Py/lib/python3.9/site-packages (from earthengine-api==0.1.409->-r Requirements.txt (line 7)) (2.138.0)\n",
      "Requirement already satisfied: google-auth-httplib2>=0.0.3 in /Users/DiegoRB/anaconda3/envs/RecNat-Py/lib/python3.9/site-packages (from earthengine-api==0.1.409->-r Requirements.txt (line 7)) (0.2.0)\n",
      "Requirement already satisfied: httplib2<1dev,>=0.9.2 in /Users/DiegoRB/anaconda3/envs/RecNat-Py/lib/python3.9/site-packages (from earthengine-api==0.1.409->-r Requirements.txt (line 7)) (0.22.0)\n",
      "Requirement already satisfied: requests in /Users/DiegoRB/anaconda3/envs/RecNat-Py/lib/python3.9/site-packages (from earthengine-api==0.1.409->-r Requirements.txt (line 7)) (2.32.3)\n",
      "Requirement already satisfied: future in /Users/DiegoRB/anaconda3/envs/RecNat-Py/lib/python3.9/site-packages (from ffmpeg-python==0.2.0->-r Requirements.txt (line 9)) (1.0.0)\n",
      "Requirement already satisfied: attrs>=19.2.0 in /Users/DiegoRB/anaconda3/envs/RecNat-Py/lib/python3.9/site-packages (from fiona==1.9.5->-r Requirements.txt (line 10)) (23.2.0)\n",
      "Requirement already satisfied: certifi in /Users/DiegoRB/anaconda3/envs/RecNat-Py/lib/python3.9/site-packages (from fiona==1.9.5->-r Requirements.txt (line 10)) (2024.7.4)\n",
      "Requirement already satisfied: setuptools in /Users/DiegoRB/anaconda3/envs/RecNat-Py/lib/python3.9/site-packages (from fiona==1.9.5->-r Requirements.txt (line 10)) (69.5.1)\n",
      "Requirement already satisfied: importlib-metadata in /Users/DiegoRB/anaconda3/envs/RecNat-Py/lib/python3.9/site-packages (from fiona==1.9.5->-r Requirements.txt (line 10)) (8.2.0)\n",
      "Requirement already satisfied: branca>=0.6.0 in /Users/DiegoRB/anaconda3/envs/RecNat-Py/lib/python3.9/site-packages (from folium==0.16.0->-r Requirements.txt (line 11)) (0.7.2)\n",
      "Requirement already satisfied: jinja2>=2.9 in /Users/DiegoRB/anaconda3/envs/RecNat-Py/lib/python3.9/site-packages (from folium==0.16.0->-r Requirements.txt (line 11)) (3.1.4)\n",
      "Requirement already satisfied: numpy in /Users/DiegoRB/anaconda3/envs/RecNat-Py/lib/python3.9/site-packages (from folium==0.16.0->-r Requirements.txt (line 11)) (1.26.4)\n",
      "Requirement already satisfied: packaging in /Users/DiegoRB/anaconda3/envs/RecNat-Py/lib/python3.9/site-packages (from geopandas==0.13.2->-r Requirements.txt (line 15)) (24.1)\n",
      "Requirement already satisfied: pandas>=1.1.0 in /Users/DiegoRB/anaconda3/envs/RecNat-Py/lib/python3.9/site-packages (from geopandas==0.13.2->-r Requirements.txt (line 15)) (2.2.2)\n",
      "Requirement already satisfied: googleapis-common-protos<2.0.dev0,>=1.56.2 in /Users/DiegoRB/anaconda3/envs/RecNat-Py/lib/python3.9/site-packages (from google-api-core==2.19.1->-r Requirements.txt (line 16)) (1.63.2)\n",
      "Requirement already satisfied: cachetools<6.0,>=2.0.0 in /Users/DiegoRB/anaconda3/envs/RecNat-Py/lib/python3.9/site-packages (from google-auth==2.30.0->-r Requirements.txt (line 17)) (5.4.0)\n",
      "Requirement already satisfied: pyasn1-modules>=0.2.1 in /Users/DiegoRB/anaconda3/envs/RecNat-Py/lib/python3.9/site-packages (from google-auth==2.30.0->-r Requirements.txt (line 17)) (0.4.0)\n",
      "Requirement already satisfied: rsa<5,>=3.1.4 in /Users/DiegoRB/anaconda3/envs/RecNat-Py/lib/python3.9/site-packages (from google-auth==2.30.0->-r Requirements.txt (line 17)) (4.9)\n",
      "Requirement already satisfied: PyQt5-sip<13,>=12.13 in /Users/DiegoRB/anaconda3/envs/RecNat-Py/lib/python3.9/site-packages (from PyQt5==5.15.10->-r Requirements.txt (line 28)) (12.15.0)\n",
      "Requirement already satisfied: PyQt5-Qt5>=5.15.2 in /Users/DiegoRB/anaconda3/envs/RecNat-Py/lib/python3.9/site-packages (from PyQt5==5.15.10->-r Requirements.txt (line 28)) (5.15.14)\n",
      "Requirement already satisfied: decorator in /Users/DiegoRB/anaconda3/envs/RecNat-Py/lib/python3.9/site-packages (from ratelim==0.1.6->-r Requirements.txt (line 30)) (5.1.1)\n",
      "Requirement already satisfied: matplotlib!=3.6.1,>=3.4 in /Users/DiegoRB/anaconda3/envs/RecNat-Py/lib/python3.9/site-packages (from seaborn==0.13.2->-r Requirements.txt (line 32)) (3.9.1)\n",
      "Requirement already satisfied: pyparsing>=2.1.6 in /Users/DiegoRB/anaconda3/envs/RecNat-Py/lib/python3.9/site-packages (from snuggs==1.4.7->-r Requirements.txt (line 34)) (3.1.2)\n",
      "Requirement already satisfied: uritemplate<5,>=3.0.1 in /Users/DiegoRB/anaconda3/envs/RecNat-Py/lib/python3.9/site-packages (from google-api-python-client>=1.12.1->earthengine-api==0.1.409->-r Requirements.txt (line 7)) (4.1.1)\n",
      "Requirement already satisfied: MarkupSafe>=2.0 in /Users/DiegoRB/anaconda3/envs/RecNat-Py/lib/python3.9/site-packages (from jinja2>=2.9->folium==0.16.0->-r Requirements.txt (line 11)) (2.1.5)\n",
      "Requirement already satisfied: contourpy>=1.0.1 in /Users/DiegoRB/anaconda3/envs/RecNat-Py/lib/python3.9/site-packages (from matplotlib!=3.6.1,>=3.4->seaborn==0.13.2->-r Requirements.txt (line 32)) (1.2.1)\n",
      "Requirement already satisfied: cycler>=0.10 in /Users/DiegoRB/anaconda3/envs/RecNat-Py/lib/python3.9/site-packages (from matplotlib!=3.6.1,>=3.4->seaborn==0.13.2->-r Requirements.txt (line 32)) (0.12.1)\n",
      "Requirement already satisfied: kiwisolver>=1.3.1 in /Users/DiegoRB/anaconda3/envs/RecNat-Py/lib/python3.9/site-packages (from matplotlib!=3.6.1,>=3.4->seaborn==0.13.2->-r Requirements.txt (line 32)) (1.4.5)\n",
      "Requirement already satisfied: pillow>=8 in /Users/DiegoRB/anaconda3/envs/RecNat-Py/lib/python3.9/site-packages (from matplotlib!=3.6.1,>=3.4->seaborn==0.13.2->-r Requirements.txt (line 32)) (10.4.0)\n",
      "Requirement already satisfied: importlib-resources>=3.2.0 in /Users/DiegoRB/anaconda3/envs/RecNat-Py/lib/python3.9/site-packages (from matplotlib!=3.6.1,>=3.4->seaborn==0.13.2->-r Requirements.txt (line 32)) (6.4.0)\n",
      "Requirement already satisfied: tzdata>=2022.7 in /Users/DiegoRB/anaconda3/envs/RecNat-Py/lib/python3.9/site-packages (from pandas>=1.1.0->geopandas==0.13.2->-r Requirements.txt (line 15)) (2024.1)\n",
      "Requirement already satisfied: pyasn1<0.7.0,>=0.4.6 in /Users/DiegoRB/anaconda3/envs/RecNat-Py/lib/python3.9/site-packages (from pyasn1-modules>=0.2.1->google-auth==2.30.0->-r Requirements.txt (line 17)) (0.6.0)\n",
      "Requirement already satisfied: charset-normalizer<4,>=2 in /Users/DiegoRB/anaconda3/envs/RecNat-Py/lib/python3.9/site-packages (from requests->earthengine-api==0.1.409->-r Requirements.txt (line 7)) (3.3.2)\n",
      "Requirement already satisfied: idna<4,>=2.5 in /Users/DiegoRB/anaconda3/envs/RecNat-Py/lib/python3.9/site-packages (from requests->earthengine-api==0.1.409->-r Requirements.txt (line 7)) (3.7)\n",
      "Requirement already satisfied: urllib3<3,>=1.21.1 in /Users/DiegoRB/anaconda3/envs/RecNat-Py/lib/python3.9/site-packages (from requests->earthengine-api==0.1.409->-r Requirements.txt (line 7)) (2.2.2)\n",
      "Requirement already satisfied: google-cloud-core<3.0dev,>=2.3.0 in /Users/DiegoRB/anaconda3/envs/RecNat-Py/lib/python3.9/site-packages (from google-cloud-storage->earthengine-api==0.1.409->-r Requirements.txt (line 7)) (2.4.1)\n",
      "Requirement already satisfied: google-resumable-media>=2.6.0 in /Users/DiegoRB/anaconda3/envs/RecNat-Py/lib/python3.9/site-packages (from google-cloud-storage->earthengine-api==0.1.409->-r Requirements.txt (line 7)) (2.7.1)\n",
      "Requirement already satisfied: google-crc32c<2.0dev,>=1.0 in /Users/DiegoRB/anaconda3/envs/RecNat-Py/lib/python3.9/site-packages (from google-cloud-storage->earthengine-api==0.1.409->-r Requirements.txt (line 7)) (1.5.0)\n",
      "Requirement already satisfied: zipp>=0.5 in /Users/DiegoRB/anaconda3/envs/RecNat-Py/lib/python3.9/site-packages (from importlib-metadata->fiona==1.9.5->-r Requirements.txt (line 10)) (3.19.2)\n"
     ]
    }
   ],
   "source": [
    "!pip install -r Requirements.txt #Esto instañará las diferentes dependencias y paqueterías necesarias, verás muchas líneas de descarga"
   ]
  },
  {
   "cell_type": "markdown",
   "metadata": {
    "id": "2swyPrbTIkom"
   },
   "source": [
    "**Se te pedirá reiniciar el entorno de Ejecución (*Entorno de ejecución > Reiniciar la Sesión*)**\n",
    "\n",
    "Una vez que lo hagas, vuelve a correr todas las celdas y estarás listo!"
   ]
  },
  {
   "cell_type": "code",
   "execution_count": 9,
   "metadata": {
    "colab": {
     "base_uri": "https://localhost:8080/"
    },
    "executionInfo": {
     "elapsed": 255,
     "status": "ok",
     "timestamp": 1722335381505,
     "user": {
      "displayName": "Diego Rivera Buendia",
      "userId": "13268057117032771901"
     },
     "user_tz": -120
    },
    "id": "CFSG2IF7GhmT",
    "outputId": "edf26136-206a-455c-c385-bd555b9e0254"
   },
   "outputs": [
    {
     "name": "stdout",
     "output_type": "stream",
     "text": [
      "total 48\n",
      "drwxr-xr-x  4 DiegoRB  staff    128 31 jul 10:37 \u001b[34m.\u001b[m\u001b[m\n",
      "drwxr-xr-x  6 DiegoRB  staff    192 31 jul 10:47 \u001b[34m..\u001b[m\u001b[m\n",
      "drwxr-xr-x  3 DiegoRB  staff     96 31 jul 10:37 \u001b[34m.ipynb_checkpoints\u001b[m\u001b[m\n",
      "-rw-r--r--  1 DiegoRB  staff  24143 31 jul 10:36 funciones_clim_ems.py\n"
     ]
    }
   ],
   "source": [
    "# Listar los archivos dentro de la carpeta Funciones\n",
    "!ls -la EMS_CONAGUA/Funciones"
   ]
  },
  {
   "cell_type": "code",
   "execution_count": 10,
   "metadata": {},
   "outputs": [
    {
     "ename": "ModuleNotFoundError",
     "evalue": "No module named 'funciones_clim_ems'",
     "output_type": "error",
     "traceback": [
      "\u001b[0;31m---------------------------------------------------------------------------\u001b[0m",
      "\u001b[0;31mModuleNotFoundError\u001b[0m                       Traceback (most recent call last)",
      "Cell \u001b[0;32mIn[10], line 5\u001b[0m\n\u001b[1;32m      2\u001b[0m sys\u001b[38;5;241m.\u001b[39mpath\u001b[38;5;241m.\u001b[39mappend(\u001b[38;5;124m'\u001b[39m\u001b[38;5;124m/content/RecNat-Py/EMS_CONAGUA/Funciones\u001b[39m\u001b[38;5;124m'\u001b[39m)\n\u001b[1;32m      4\u001b[0m \u001b[38;5;66;03m# Importar el archivo funciones_clim_ems.py\u001b[39;00m\n\u001b[0;32m----> 5\u001b[0m \u001b[38;5;28;01mimport\u001b[39;00m \u001b[38;5;21;01mfunciones_clim_ems\u001b[39;00m\n",
      "\u001b[0;31mModuleNotFoundError\u001b[0m: No module named 'funciones_clim_ems'"
     ]
    }
   ],
   "source": [
    "import sys\n",
    "sys.path.append('/content/RecNat-Py/EMS_CONAGUA/Funciones')\n",
    "\n",
    "# Importar el archivo funciones_clim_ems.py\n",
    "import funciones_clim_ems"
   ]
  },
  {
   "cell_type": "code",
   "execution_count": 12,
   "metadata": {},
   "outputs": [
    {
     "name": "stdout",
     "output_type": "stream",
     "text": [
      "Directorio actual: /Users/DiegoRB/Desktop/Tesis/REPO/RecNat-Py/Libretas_IRNR/RecNat-Py\n"
     ]
    }
   ],
   "source": [
    "# Obtener y mostrar el directorio de trabajo actual\n",
    "directorio_actual = os.getcwd()\n",
    "print(\"Directorio actual:\", directorio_actual)"
   ]
  },
  {
   "cell_type": "markdown",
   "metadata": {
    "id": "j5u0ptuEOJ6U"
   },
   "source": [
    "# Verificar que tenemos acceso a las funciones Clim-Ems"
   ]
  },
  {
   "cell_type": "code",
   "execution_count": 11,
   "metadata": {
    "colab": {
     "base_uri": "https://localhost:8080/"
    },
    "executionInfo": {
     "elapsed": 228,
     "status": "ok",
     "timestamp": 1722335512008,
     "user": {
      "displayName": "Diego Rivera Buendia",
      "userId": "13268057117032771901"
     },
     "user_tz": -120
    },
    "id": "SAuf9wOUMUa-",
    "outputId": "f324001d-36e6-4127-ba24-61db3c45b127"
   },
   "outputs": [
    {
     "name": "stdout",
     "output_type": "stream",
     "text": [
      "ajustar_inconsistencias\n",
      "calcular_matriz_calidad\n",
      "calcular_matriz_calidad_2\n",
      "contar_anomalias_especificas\n",
      "copiar_archivo\n",
      "encontrar_maximo_datos_nulos\n",
      "extraer_datos_climatologicos\n",
      "generar_analisis_mensual\n",
      "generar_boxplot\n",
      "generar_histogramas_redondeo\n",
      "generar_series\n",
      "mapa_estaciones\n",
      "pr\n",
      "reporte_calidad\n"
     ]
    }
   ],
   "source": [
    "import inspect\n",
    "\n",
    "# Obtener todas las funciones del módulo para verificar que se cargaron correctamente\n",
    "funciones = inspect.getmembers(funciones_clim_ems, inspect.isfunction)\n",
    "\n",
    "# Imprimir los nombres de las funciones\n",
    "for nombre, funcion in funciones:\n",
    "    print(nombre)"
   ]
  },
  {
   "cell_type": "code",
   "execution_count": null,
   "metadata": {
    "id": "JipF9oalPa0L"
   },
   "outputs": [],
   "source": []
  }
 ],
 "metadata": {
  "colab": {
   "authorship_tag": "ABX9TyN4XTkyHvOor4I/T4PZdnnE",
   "provenance": []
  },
  "kernelspec": {
   "display_name": "Python 3 (ipykernel)",
   "language": "python",
   "name": "python3"
  },
  "language_info": {
   "codemirror_mode": {
    "name": "ipython",
    "version": 3
   },
   "file_extension": ".py",
   "mimetype": "text/x-python",
   "name": "python",
   "nbconvert_exporter": "python",
   "pygments_lexer": "ipython3",
   "version": "3.9.19"
  }
 },
 "nbformat": 4,
 "nbformat_minor": 4
}

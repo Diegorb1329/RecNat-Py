{
 "cells": [
  {
   "cell_type": "markdown",
   "id": "3db1c496-b4ff-4cb6-bc04-f2ce2d4d5ecb",
   "metadata": {},
   "source": [
    "# Descarga masiva de datos de CONAGUA"
   ]
  },
  {
   "cell_type": "code",
   "execution_count": 6,
   "id": "ceef3cc6-4e71-4391-a5fb-bb239b79d031",
   "metadata": {},
   "outputs": [
    {
     "name": "stderr",
     "output_type": "stream",
     "text": [
      "Descargando archivos:  12%|██████▊                                                  | 653/5460 [05:40<54:24,  1.47it/s]"
     ]
    },
    {
     "name": "stdout",
     "output_type": "stream",
     "text": [
      "Archivo no encontrado: dia09068.TXT\n"
     ]
    },
    {
     "name": "stderr",
     "output_type": "stream",
     "text": [
      "Descargando archivos:  16%|█████████                                                | 872/5460 [07:42<48:40,  1.57it/s]"
     ]
    },
    {
     "name": "stdout",
     "output_type": "stream",
     "text": [
      "Archivo no encontrado: dia11166.TXT\n"
     ]
    },
    {
     "name": "stderr",
     "output_type": "stream",
     "text": [
      "Descargando archivos:  19%|██████████▊                                             | 1053/5460 [09:18<48:46,  1.51it/s]"
     ]
    },
    {
     "name": "stdout",
     "output_type": "stream",
     "text": [
      "Archivo no encontrado: dia13085.TXT\n"
     ]
    },
    {
     "name": "stderr",
     "output_type": "stream",
     "text": [
      "Descargando archivos:  20%|███████████▎                                            | 1102/5460 [09:44<40:35,  1.79it/s]"
     ]
    },
    {
     "name": "stdout",
     "output_type": "stream",
     "text": [
      "Archivo no encontrado: dia13161.TXT\n"
     ]
    },
    {
     "name": "stderr",
     "output_type": "stream",
     "text": [
      "Descargando archivos:  21%|███████████▉                                            | 1168/5460 [10:21<45:18,  1.58it/s]"
     ]
    },
    {
     "name": "stdout",
     "output_type": "stream",
     "text": [
      "Archivo no encontrado: dia14112.TXT\n"
     ]
    },
    {
     "name": "stderr",
     "output_type": "stream",
     "text": [
      "Descargando archivos:  25%|█████████████▊                                          | 1341/5460 [12:01<44:02,  1.56it/s]"
     ]
    },
    {
     "name": "stdout",
     "output_type": "stream",
     "text": [
      "Archivo no encontrado: dia15195.TXT\n"
     ]
    },
    {
     "name": "stderr",
     "output_type": "stream",
     "text": [
      "Descargando archivos:  27%|███████████████▏                                        | 1482/5460 [13:16<41:05,  1.61it/s]"
     ]
    },
    {
     "name": "stdout",
     "output_type": "stream",
     "text": [
      "Archivo no encontrado: dia16124.TXT\n"
     ]
    },
    {
     "name": "stderr",
     "output_type": "stream",
     "text": [
      "Descargando archivos:  27%|███████████████▎                                        | 1498/5460 [13:26<43:55,  1.50it/s]"
     ]
    },
    {
     "name": "stdout",
     "output_type": "stream",
     "text": [
      "Archivo no encontrado: dia16170.TXT\n"
     ]
    },
    {
     "name": "stderr",
     "output_type": "stream",
     "text": [
      "Descargando archivos:  29%|████████████████▌                                       | 1610/5460 [14:26<41:01,  1.56it/s]"
     ]
    },
    {
     "name": "stdout",
     "output_type": "stream",
     "text": [
      "Archivo no encontrado: dia18030.TXT\n"
     ]
    },
    {
     "name": "stderr",
     "output_type": "stream",
     "text": [
      "Descargando archivos:  34%|███████████████████▏                                    | 1874/5460 [16:44<44:04,  1.36it/s]"
     ]
    },
    {
     "name": "stdout",
     "output_type": "stream",
     "text": [
      "Archivo no encontrado: dia21052.TXT\n"
     ]
    },
    {
     "name": "stderr",
     "output_type": "stream",
     "text": [
      "Descargando archivos:  48%|██████████████████████████▊                             | 2619/5460 [23:30<31:17,  1.51it/s]"
     ]
    },
    {
     "name": "stdout",
     "output_type": "stream",
     "text": [
      "Archivo no encontrado: dia30180.TXT\n"
     ]
    },
    {
     "name": "stderr",
     "output_type": "stream",
     "text": [
      "Descargando archivos:  52%|█████████████████████████████                           | 2832/5460 [25:26<26:25,  1.66it/s]"
     ]
    },
    {
     "name": "stdout",
     "output_type": "stream",
     "text": [
      "Archivo no encontrado: dia32118.TXT\n"
     ]
    },
    {
     "name": "stderr",
     "output_type": "stream",
     "text": [
      "Descargando archivos:  55%|██████████████████████████████▋                         | 2995/5460 [26:39<22:44,  1.81it/s]"
     ]
    },
    {
     "name": "stdout",
     "output_type": "stream",
     "text": [
      "Archivo no encontrado: dia04016.TXT\n"
     ]
    },
    {
     "name": "stderr",
     "output_type": "stream",
     "text": [
      "Descargando archivos:  68%|██████████████████████████████████████                  | 3705/5460 [32:04<15:13,  1.92it/s]"
     ]
    },
    {
     "name": "stdout",
     "output_type": "stream",
     "text": [
      "Archivo no encontrado: dia13005.TXT\n"
     ]
    },
    {
     "name": "stderr",
     "output_type": "stream",
     "text": [
      "Descargando archivos:  70%|██████████████████████████████████████▉                 | 3798/5460 [32:48<16:32,  1.67it/s]"
     ]
    },
    {
     "name": "stdout",
     "output_type": "stream",
     "text": [
      "Archivo no encontrado: dia14092.TXT\n"
     ]
    },
    {
     "name": "stderr",
     "output_type": "stream",
     "text": [
      "Descargando archivos:  73%|████████████████████████████████████████▉               | 3990/5460 [34:20<13:28,  1.82it/s]"
     ]
    },
    {
     "name": "stdout",
     "output_type": "stream",
     "text": [
      "Archivo no encontrado: dia15209.TXT\n"
     ]
    },
    {
     "name": "stderr",
     "output_type": "stream",
     "text": [
      "Descargando archivos:  75%|██████████████████████████████████████████              | 4099/5460 [35:07<13:18,  1.70it/s]"
     ]
    },
    {
     "name": "stdout",
     "output_type": "stream",
     "text": [
      "Archivo no encontrado: dia16059.TXT\n"
     ]
    },
    {
     "name": "stderr",
     "output_type": "stream",
     "text": [
      "Descargando archivos:  87%|████████████████████████████████████████████████▋       | 4753/5460 [40:15<06:02,  1.95it/s]"
     ]
    },
    {
     "name": "stdout",
     "output_type": "stream",
     "text": [
      "Archivo no encontrado: dia24144.TXT\n"
     ]
    },
    {
     "name": "stderr",
     "output_type": "stream",
     "text": [
      "Descargando archivos: 100%|████████████████████████████████████████████████████████| 5460/5460 [45:42<00:00,  1.99it/s]"
     ]
    },
    {
     "name": "stdout",
     "output_type": "stream",
     "text": [
      "Proceso de descarga completado.\n"
     ]
    },
    {
     "name": "stderr",
     "output_type": "stream",
     "text": [
      "\n"
     ]
    }
   ],
   "source": [
    "import pandas as pd\n",
    "import requests\n",
    "from tqdm import tqdm\n",
    "\n",
    "# Asumiendo que Google Drive ya está montado y tqdm instalado\n",
    "\n",
    "# Leer el archivo CSV con los identificadores y abreviaturas de estado\n",
    "#archivo_csv = '/Users/DiegoRB/Desktop/Proyectos/EM_Mex/Kml_estaciones/Estaciones_join/estaciones_join_3/estaciones_estado_abrev.csv'  # Ajusta la ruta según donde tengas el archivo\n",
    "datos = pd.read_csv(archivo_csv)\n",
    "\n",
    "# Función para descargar un archivo\n",
    "def descargar_archivo(url, path_destino):\n",
    "    respuesta = requests.get(url)\n",
    "    if respuesta.status_code == 200:\n",
    "        with open(path_destino, 'wb') as f:\n",
    "            f.write(respuesta.content)\n",
    "        return True\n",
    "    return False\n",
    "\n",
    "# Ruta base para los archivos, sin incluir la abreviatura del estado\n",
    "ruta_base = \"https://smn.conagua.gob.mx/tools/RESOURCES/Normales_Climatologicas/Diarios/\"\n",
    "\n",
    "# Carpeta destino en Google Drive\n",
    "carpeta_destino = '/Users/DiegoRB/Desktop/Proyectos/EM_Mex/txts' \n",
    "# Iterar sobre cada fila en el DataFrame\n",
    "for index, fila in tqdm(datos.iterrows(), desc=\"Descargando archivos\", total=datos.shape[0]):\n",
    "    # Extraer el identificador y la abreviatura del estado\n",
    "    identificador, estado_abrev = fila['Name'], fila['estado_abrev']\n",
    "    # Generar la URL completa incluyendo la abreviatura del estado\n",
    "    url_completa = f\"{ruta_base}{estado_abrev}/dia{str(identificador).zfill(5)}.TXT\"\n",
    "    # Generar el path completo de destino\n",
    "    path_destino = f\"{carpeta_destino}/dia{str(identificador).zfill(5)}.TXT\"\n",
    "    # Descargar el archivo\n",
    "    if not descargar_archivo(url_completa, path_destino):\n",
    "        print(f\"Archivo no encontrado: dia{str(identificador).zfill(5)}.TXT\")\n",
    "\n",
    "print(\"Proceso de descarga completado.\")\n"
   ]
  },
  {
   "cell_type": "code",
   "execution_count": null,
   "id": "57d7c59c-3eb1-4b9a-8e8f-0e7bc6fb8273",
   "metadata": {},
   "outputs": [],
   "source": []
  }
 ],
 "metadata": {
  "kernelspec": {
   "display_name": "Python 3 (ipykernel)",
   "language": "python",
   "name": "python3"
  },
  "language_info": {
   "codemirror_mode": {
    "name": "ipython",
    "version": 3
   },
   "file_extension": ".py",
   "mimetype": "text/x-python",
   "name": "python",
   "nbconvert_exporter": "python",
   "pygments_lexer": "ipython3",
   "version": "3.12.2"
  }
 },
 "nbformat": 4,
 "nbformat_minor": 5
}

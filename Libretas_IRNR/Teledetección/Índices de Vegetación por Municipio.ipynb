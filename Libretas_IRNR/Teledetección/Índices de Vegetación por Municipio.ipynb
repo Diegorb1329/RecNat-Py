{
 "cells": [
  {
   "cell_type": "markdown",
   "metadata": {
    "id": "5TupK5GrVyAa"
   },
   "source": [
    "<a target=\"_blank\" href=\"https://colab.research.google.com/github/Diegorb1329/RecNat-Py/blob/main/Libretas_IRNR/Teledetecci%C3%B3n/%C3%8Dndices%20de%20Vegetaci%C3%B3n%20por%20Municipio.ipynb\">\n",
    "  <img src=\"https://colab.research.google.com/assets/colab-badge.svg\" alt=\"Open In Colab\"/>\n",
    "</a>"
   ]
  },
  {
   "cell_type": "markdown",
   "metadata": {
    "id": "zhn24wef8Uwi"
   },
   "source": [
    "---\n",
    "**Autor:** [Diego Rivera Buendía ](https://hyper-hydrogen-a19.notion.site/Hola-Soy-Diego-Rivera-Buend-a-bb4d9e93c11246748dfc618e69e317ea)\n",
    "\n",
    "**Licencia:** Apache 2.0\n",
    "\n",
    "**Acceso:** Libre y gratuito bajo demanda\n",
    "\n",
    "**Nota:** Este documento puede ser utilizado y compartido libremente, siempre que se haga referencia a su autor original. No se permite el uso comercial sin permiso explícito del autor.\n",
    "---\n"
   ]
  },
  {
   "cell_type": "markdown",
   "metadata": {
    "id": "ltvxSE2wwk2l"
   },
   "source": [
    "# Introducción"
   ]
  },
  {
   "cell_type": "markdown",
   "metadata": {
    "id": "1FVqfTU75F56"
   },
   "source": [
    "**Análisis de imágenes Sentinel-2 con [Google Earth Engine](https://earthengine.google.com/) y [Geemap](https://geemap.org/) en Google Colab**\n",
    "\n",
    "Esta libreta te guiará a través del proceso de carga y análisis de imágenes satelitales de Sentinel-2 utilizando Google Earth Engine. Cubriremos los siguientes temas:\n",
    "\n",
    "1. Carga de datos geográficos.\n",
    "2. Filtrado de imágenes por fecha y cobertura nubosa.\n",
    "3. Composición de bandas.\n",
    "4. Cálculo y visualización de NDVI.\n",
    "5. Visualización avanzada en mapas interactivos.\n",
    "\n",
    "Un mosaico permite analizar imágenes satelitales para sacar el mayor provecho de estas, [aquí](https://learn.arcgis.com/es/projects/get-started-with-multidimensional-multispectral-imagery/) se muestra cómo se puede hacer este proceso de forma \"manual\" con ArcGis Pro"
   ]
  },
  {
   "cell_type": "markdown",
   "metadata": {
    "id": "bc6h9B-A5aPF"
   },
   "source": [
    "# **Importación de Librerías y Autenticación** 📓"
   ]
  },
  {
   "cell_type": "code",
   "execution_count": null,
   "metadata": {
    "id": "_utvKfDwwtjg"
   },
   "outputs": [],
   "source": [
    "import geemap\n",
    "import ee"
   ]
  },
  {
   "cell_type": "markdown",
   "metadata": {
    "id": "wDVJnLbh5k_K"
   },
   "source": [
    "## Autenticación"
   ]
  },
  {
   "cell_type": "markdown",
   "metadata": {
    "id": "lALLOlLA5opI"
   },
   "source": [
    "Primero, necesitamos autenticar nuestra sesión de Google Earth Engine y inicializarla. También instalaremos la librería `geemap`, que facilita la visualización de mapas interactivos en notebooks.\n",
    "\n",
    "*Puedes consultar la siguiente guía para crear una cuenta de Earth Engine y el establecimiento de un nuevo proyecto*"
   ]
  },
  {
   "cell_type": "code",
   "execution_count": null,
   "metadata": {
    "colab": {
     "base_uri": "https://localhost:8080/",
     "height": 17
    },
    "executionInfo": {
     "elapsed": 304,
     "status": "ok",
     "timestamp": 1722202924467,
     "user": {
      "displayName": "Diego Rivera Buendia",
      "userId": "13268057117032771901"
     },
     "user_tz": -120
    },
    "id": "XN9YUrgq6KYu",
    "outputId": "ca4337ae-dda1-4d58-87a1-64a8cdee76ea"
   },
   "outputs": [
    {
     "data": {
      "text/html": [
       "\n",
       "            <style>\n",
       "                .geemap-dark {\n",
       "                    --jp-widgets-color: white;\n",
       "                    --jp-widgets-label-color: white;\n",
       "                    --jp-ui-font-color1: white;\n",
       "                    --jp-layout-color2: #454545;\n",
       "                    background-color: #383838;\n",
       "                }\n",
       "\n",
       "                .geemap-dark .jupyter-button {\n",
       "                    --jp-layout-color3: #383838;\n",
       "                }\n",
       "\n",
       "                .geemap-colab {\n",
       "                    background-color: var(--colab-primary-surface-color, white);\n",
       "                }\n",
       "\n",
       "                .geemap-colab .jupyter-button {\n",
       "                    --jp-layout-color3: var(--colab-primary-surface-color, white);\n",
       "                }\n",
       "            </style>\n",
       "            "
      ],
      "text/plain": [
       "<IPython.core.display.HTML object>"
      ]
     },
     "metadata": {},
     "output_type": "display_data"
    }
   ],
   "source": [
    "# En caso de que Geemap no esté instalado, habilita esta línea de código eliminando el símbolo \"#\"\n",
    "\n",
    "#!pip install geemap"
   ]
  },
  {
   "cell_type": "code",
   "execution_count": null,
   "metadata": {
    "colab": {
     "base_uri": "https://localhost:8080/",
     "height": 17
    },
    "executionInfo": {
     "elapsed": 14415,
     "status": "ok",
     "timestamp": 1722202938874,
     "user": {
      "displayName": "Diego Rivera Buendia",
      "userId": "13268057117032771901"
     },
     "user_tz": -120
    },
    "id": "-RVd-yz8wxDF",
    "outputId": "ef964dd6-60b1-4add-da77-69995c809e9e"
   },
   "outputs": [
    {
     "data": {
      "text/html": [
       "\n",
       "            <style>\n",
       "                .geemap-dark {\n",
       "                    --jp-widgets-color: white;\n",
       "                    --jp-widgets-label-color: white;\n",
       "                    --jp-ui-font-color1: white;\n",
       "                    --jp-layout-color2: #454545;\n",
       "                    background-color: #383838;\n",
       "                }\n",
       "\n",
       "                .geemap-dark .jupyter-button {\n",
       "                    --jp-layout-color3: #383838;\n",
       "                }\n",
       "\n",
       "                .geemap-colab {\n",
       "                    background-color: var(--colab-primary-surface-color, white);\n",
       "                }\n",
       "\n",
       "                .geemap-colab .jupyter-button {\n",
       "                    --jp-layout-color3: var(--colab-primary-surface-color, white);\n",
       "                }\n",
       "            </style>\n",
       "            "
      ],
      "text/plain": [
       "<IPython.core.display.HTML object>"
      ]
     },
     "metadata": {},
     "output_type": "display_data"
    }
   ],
   "source": [
    "ee.Authenticate()\n",
    "ee.Initialize(project = \"edu-irnr\") # Hay que modificar el nombre del proyecto al nombre que se tiene en el proyecto propio"
   ]
  },
  {
   "cell_type": "markdown",
   "metadata": {
    "id": "X9I6X7OY6cTi"
   },
   "source": [
    "# Carga de Datos 🔢\n",
    "\n",
    "---\n",
    "\n",
    "Es necesario establecer la conexión a las colecciones de datos a las que queremos acceder. Para este caso serán:\n",
    "\n",
    "\n",
    "1.   Imágenes Sentinel 2 de la Agencia Espacial Europea\n",
    "2.   Límites a nivel municipal de México (Se requiere cargar de forma local esta capa)\n",
    "\n",
    "Además de estos datos, es posible consultar toda la [colección de datos](https://developers.google.com/earth-engine/datasets/) de Google Earth Engine.\n",
    "\n",
    "---"
   ]
  },
  {
   "cell_type": "code",
   "execution_count": null,
   "metadata": {
    "colab": {
     "base_uri": "https://localhost:8080/",
     "height": 17
    },
    "executionInfo": {
     "elapsed": 410,
     "status": "ok",
     "timestamp": 1722202957940,
     "user": {
      "displayName": "Diego Rivera Buendia",
      "userId": "13268057117032771901"
     },
     "user_tz": -120
    },
    "id": "uFQSfn8l9CiY",
    "outputId": "7bf14dbb-7c6b-4e3c-dcc3-5d52b977ea39"
   },
   "outputs": [
    {
     "data": {
      "text/html": [
       "\n",
       "            <style>\n",
       "                .geemap-dark {\n",
       "                    --jp-widgets-color: white;\n",
       "                    --jp-widgets-label-color: white;\n",
       "                    --jp-ui-font-color1: white;\n",
       "                    --jp-layout-color2: #454545;\n",
       "                    background-color: #383838;\n",
       "                }\n",
       "\n",
       "                .geemap-dark .jupyter-button {\n",
       "                    --jp-layout-color3: #383838;\n",
       "                }\n",
       "\n",
       "                .geemap-colab {\n",
       "                    background-color: var(--colab-primary-surface-color, white);\n",
       "                }\n",
       "\n",
       "                .geemap-colab .jupyter-button {\n",
       "                    --jp-layout-color3: var(--colab-primary-surface-color, white);\n",
       "                }\n",
       "            </style>\n",
       "            "
      ],
      "text/plain": [
       "<IPython.core.display.HTML object>"
      ]
     },
     "metadata": {},
     "output_type": "display_data"
    }
   ],
   "source": [
    "# Cargar la colección de municipios de México\n",
    "municipios_mexico = ee.FeatureCollection(\"projects/ee-diego-epp/assets/mun_mex\")\n",
    "# Filtrar por el municipio 'Paso de Ovejas' (Cambiar según área de interés)\n",
    "municipio = municipios_mexico.filter(ee.Filter.eq('NOM_MUN', 'Paso de Ovejas'))\n"
   ]
  },
  {
   "cell_type": "markdown",
   "metadata": {
    "id": "oPpQsU0Z7ISf"
   },
   "source": [
    "## Definición de las fechas de interés 📅"
   ]
  },
  {
   "cell_type": "code",
   "execution_count": null,
   "metadata": {
    "colab": {
     "base_uri": "https://localhost:8080/",
     "height": 17
    },
    "executionInfo": {
     "elapsed": 419,
     "status": "ok",
     "timestamp": 1722202949971,
     "user": {
      "displayName": "Diego Rivera Buendia",
      "userId": "13268057117032771901"
     },
     "user_tz": -120
    },
    "id": "anNzNrP77G4G",
    "outputId": "e665f793-c7da-41b7-8adb-4597e03ddeaa"
   },
   "outputs": [
    {
     "data": {
      "text/html": [
       "\n",
       "            <style>\n",
       "                .geemap-dark {\n",
       "                    --jp-widgets-color: white;\n",
       "                    --jp-widgets-label-color: white;\n",
       "                    --jp-ui-font-color1: white;\n",
       "                    --jp-layout-color2: #454545;\n",
       "                    background-color: #383838;\n",
       "                }\n",
       "\n",
       "                .geemap-dark .jupyter-button {\n",
       "                    --jp-layout-color3: #383838;\n",
       "                }\n",
       "\n",
       "                .geemap-colab {\n",
       "                    background-color: var(--colab-primary-surface-color, white);\n",
       "                }\n",
       "\n",
       "                .geemap-colab .jupyter-button {\n",
       "                    --jp-layout-color3: var(--colab-primary-surface-color, white);\n",
       "                }\n",
       "            </style>\n",
       "            "
      ],
      "text/plain": [
       "<IPython.core.display.HTML object>"
      ]
     },
     "metadata": {},
     "output_type": "display_data"
    }
   ],
   "source": [
    "# Definir la fecha de inicio y fin\n",
    "fecha_inicio = '2024-06-01'\n",
    "fecha_fin = '2024-07-25'"
   ]
  },
  {
   "cell_type": "markdown",
   "metadata": {
    "id": "qdgpD9dkT67x"
   },
   "source": [
    "## Carga de imágenes satelitales sin nubes ⛔🌨"
   ]
  },
  {
   "cell_type": "code",
   "execution_count": null,
   "metadata": {
    "colab": {
     "base_uri": "https://localhost:8080/",
     "height": 17
    },
    "executionInfo": {
     "elapsed": 7,
     "status": "ok",
     "timestamp": 1722202958244,
     "user": {
      "displayName": "Diego Rivera Buendia",
      "userId": "13268057117032771901"
     },
     "user_tz": -120
    },
    "id": "WLLwOxhuwd4E",
    "outputId": "78fde36f-85b2-4996-c990-14b34a1ed9f9"
   },
   "outputs": [
    {
     "data": {
      "text/html": [
       "\n",
       "            <style>\n",
       "                .geemap-dark {\n",
       "                    --jp-widgets-color: white;\n",
       "                    --jp-widgets-label-color: white;\n",
       "                    --jp-ui-font-color1: white;\n",
       "                    --jp-layout-color2: #454545;\n",
       "                    background-color: #383838;\n",
       "                }\n",
       "\n",
       "                .geemap-dark .jupyter-button {\n",
       "                    --jp-layout-color3: #383838;\n",
       "                }\n",
       "\n",
       "                .geemap-colab {\n",
       "                    background-color: var(--colab-primary-surface-color, white);\n",
       "                }\n",
       "\n",
       "                .geemap-colab .jupyter-button {\n",
       "                    --jp-layout-color3: var(--colab-primary-surface-color, white);\n",
       "                }\n",
       "            </style>\n",
       "            "
      ],
      "text/plain": [
       "<IPython.core.display.HTML object>"
      ]
     },
     "metadata": {},
     "output_type": "display_data"
    }
   ],
   "source": [
    "\n",
    "# Cargar y filtrar la colección de imágenes Sentinel-2\n",
    "sentinel2 = ee.ImageCollection('COPERNICUS/S2_SR_HARMONIZED') \\\n",
    "    .filterDate(fecha_inicio, fecha_fin) \\\n",
    "    .filter(ee.Filter.lt('CLOUDY_PIXEL_PERCENTAGE', 15)) \\\n",
    "    .filterBounds(municipio)\n",
    "\n",
    "# Al cambiar el  parámetro \"CLOUDY_PIXEL_PERCENTAGE\", definimos el porcentaje máximo de nubes que deseamos en nuestras imágenes.\n",
    "# Bajar el porcentaje de nubes deseado implica, generalmente, disponer de una menor cantidad de imágenes"
   ]
  },
  {
   "cell_type": "markdown",
   "metadata": {
    "id": "G0p5gZMw9Xny"
   },
   "source": [
    "# Composición de bandas y cálculo de NDVI 🔴🟢\n",
    "Configuraremos parámetros de visualización y crearemos una vista de las bandas RGB de las imágenes.\n"
   ]
  },
  {
   "cell_type": "markdown",
   "metadata": {
    "id": "N-ifH7s5TIfH"
   },
   "source": [
    "---\n",
    "\n",
    "## ¿Qué es el Índice NDVI (Normalized Difference Vegetation Index)?\n",
    "\n",
    "¡Puedes revisar este [documento](https://compass.onlinelibrary.wiley.com/doi/10.1111/j.1749-8198.2012.00507.x) para tener más información!\n",
    "\n",
    "El **Índice de Vegetación de Diferencia Normalizada (NDVI)** es una medida cuantitativa que se utiliza para evaluar la densidad y la salud de la vegetación en una determinada área a partir de imágenes satelitales o aéreas. Utiliza las bandas del espectro visible e infrarrojo cercano para hacer esta evaluación.\n",
    "\n",
    "### Fórmula del NDVI\n",
    "\n",
    "El NDVI se calcula usando la siguiente fórmula:\n",
    "\n",
    "NDVI = \\(NIR - Red) / (NIR + Red)\n",
    "\n",
    "Donde:\n",
    "- **NIR** representa la reflectancia en el infrarrojo cercano.\n",
    "- **Red** representa la reflectancia en la luz visible roja.\n",
    "\n",
    "### Valores del NDVI\n",
    "\n",
    "El rango de valores del NDVI varía de -1 a +1:\n",
    "- **Valores cercanos a +1**: indican una alta densidad de vegetación con buena salud.\n",
    "- **Valores cercanos a 0 y negativos**: sugieren áreas sin vegetación, como rocas, ríos y áreas urbanizadas o suelos desnudos.\n",
    "\n",
    "### Usos del NDVI\n",
    "\n",
    "El NDVI es ampliamente utilizado en varias aplicaciones, incluyendo:\n",
    "- **Agricultura**: para monitorear la salud y el crecimiento de los cultivos a lo largo del tiempo.\n",
    "- **Gestión de recursos naturales**: para estudiar cambios en los ecosistemas y la cobertura vegetal.\n",
    "- **Planificación urbana y gestión del territorio**: para analizar la distribución de áreas verdes y su salud.\n",
    "\n",
    "El NDVI es una herramienta esencial para ecologistas, agricultores, y gestores del territorio, proporcionando una visión clara y medible de la vegetación a gran escala a través de teledetección.\n",
    "\n",
    "---\n"
   ]
  },
  {
   "cell_type": "code",
   "execution_count": null,
   "metadata": {
    "colab": {
     "base_uri": "https://localhost:8080/",
     "height": 34
    },
    "executionInfo": {
     "elapsed": 1081,
     "status": "ok",
     "timestamp": 1722203337598,
     "user": {
      "displayName": "Diego Rivera Buendia",
      "userId": "13268057117032771901"
     },
     "user_tz": -120
    },
    "id": "N-LZp3yj8F5C",
    "outputId": "4b66d5aa-2897-4cd7-9946-be3ee9264e02"
   },
   "outputs": [
    {
     "data": {
      "text/html": [
       "\n",
       "            <style>\n",
       "                .geemap-dark {\n",
       "                    --jp-widgets-color: white;\n",
       "                    --jp-widgets-label-color: white;\n",
       "                    --jp-ui-font-color1: white;\n",
       "                    --jp-layout-color2: #454545;\n",
       "                    background-color: #383838;\n",
       "                }\n",
       "\n",
       "                .geemap-dark .jupyter-button {\n",
       "                    --jp-layout-color3: #383838;\n",
       "                }\n",
       "\n",
       "                .geemap-colab {\n",
       "                    background-color: var(--colab-primary-surface-color, white);\n",
       "                }\n",
       "\n",
       "                .geemap-colab .jupyter-button {\n",
       "                    --jp-layout-color3: var(--colab-primary-surface-color, white);\n",
       "                }\n",
       "            </style>\n",
       "            "
      ],
      "text/plain": [
       "<IPython.core.display.HTML object>"
      ]
     },
     "metadata": {},
     "output_type": "display_data"
    },
    {
     "name": "stdout",
     "output_type": "stream",
     "text": [
      "Imágen a color real y NDVI calculado con éxito.\n"
     ]
    }
   ],
   "source": [
    "# Verificar si hay imágenes disponibles en la colección\n",
    "if sentinel2.size().getInfo() == 0:\n",
    "\n",
    "    print(\"No hay imágenes disponibles, cambie el rango de fechas\")\n",
    "\n",
    "else:\n",
    "\n",
    "    # Obtener la primera imagen de la colección\n",
    "    imagen_composite = sentinel2.first()\n",
    "\n",
    "    # Calcular NDVI\n",
    "    ndvi = imagen_composite.normalizedDifference(['B8', 'B4']).rename('NDVI')\n",
    "\n",
    "    # Puedes añadir aquí el código para otras operaciones de bandas\n",
    "\n",
    "    print(\"Imágen a color real y NDVI calculado con éxito.\")"
   ]
  },
  {
   "cell_type": "code",
   "execution_count": null,
   "metadata": {
    "colab": {
     "base_uri": "https://localhost:8080/",
     "height": 17
    },
    "executionInfo": {
     "elapsed": 11,
     "status": "ok",
     "timestamp": 1722203337598,
     "user": {
      "displayName": "Diego Rivera Buendia",
      "userId": "13268057117032771901"
     },
     "user_tz": -120
    },
    "id": "IPXWW2ek9W0m",
    "outputId": "ded1112f-e133-4884-e8fb-950ad3d496d1"
   },
   "outputs": [
    {
     "data": {
      "text/html": [
       "\n",
       "            <style>\n",
       "                .geemap-dark {\n",
       "                    --jp-widgets-color: white;\n",
       "                    --jp-widgets-label-color: white;\n",
       "                    --jp-ui-font-color1: white;\n",
       "                    --jp-layout-color2: #454545;\n",
       "                    background-color: #383838;\n",
       "                }\n",
       "\n",
       "                .geemap-dark .jupyter-button {\n",
       "                    --jp-layout-color3: #383838;\n",
       "                }\n",
       "\n",
       "                .geemap-colab {\n",
       "                    background-color: var(--colab-primary-surface-color, white);\n",
       "                }\n",
       "\n",
       "                .geemap-colab .jupyter-button {\n",
       "                    --jp-layout-color3: var(--colab-primary-surface-color, white);\n",
       "                }\n",
       "            </style>\n",
       "            "
      ],
      "text/plain": [
       "<IPython.core.display.HTML object>"
      ]
     },
     "metadata": {},
     "output_type": "display_data"
    }
   ],
   "source": [
    "# Parámetros de visualización para las bandas RGB\n",
    "parametros_vis = {\n",
    "    'bands': ['B4', 'B3', 'B2'],\n",
    "    'min': 0,\n",
    "    'max': 3000,\n",
    "    'gamma': 1.4\n",
    "}\n"
   ]
  },
  {
   "cell_type": "code",
   "execution_count": null,
   "metadata": {
    "colab": {
     "base_uri": "https://localhost:8080/",
     "height": 17
    },
    "executionInfo": {
     "elapsed": 9,
     "status": "ok",
     "timestamp": 1722203337598,
     "user": {
      "displayName": "Diego Rivera Buendia",
      "userId": "13268057117032771901"
     },
     "user_tz": -120
    },
    "id": "rPmfrX5l9kr1",
    "outputId": "5de4c01d-fde3-4636-b9f5-6fbc0e7b9686"
   },
   "outputs": [
    {
     "data": {
      "text/html": [
       "\n",
       "            <style>\n",
       "                .geemap-dark {\n",
       "                    --jp-widgets-color: white;\n",
       "                    --jp-widgets-label-color: white;\n",
       "                    --jp-ui-font-color1: white;\n",
       "                    --jp-layout-color2: #454545;\n",
       "                    background-color: #383838;\n",
       "                }\n",
       "\n",
       "                .geemap-dark .jupyter-button {\n",
       "                    --jp-layout-color3: #383838;\n",
       "                }\n",
       "\n",
       "                .geemap-colab {\n",
       "                    background-color: var(--colab-primary-surface-color, white);\n",
       "                }\n",
       "\n",
       "                .geemap-colab .jupyter-button {\n",
       "                    --jp-layout-color3: var(--colab-primary-surface-color, white);\n",
       "                }\n",
       "            </style>\n",
       "            "
      ],
      "text/plain": [
       "<IPython.core.display.HTML object>"
      ]
     },
     "metadata": {},
     "output_type": "display_data"
    }
   ],
   "source": [
    "# Parámetros de visualización para NDVI\n",
    "parametros_ndvi = {\n",
    "    'min': 0,\n",
    "    'max': 1,\n",
    "    'palette': ['red', 'yellow', 'lightgreen', 'green']\n",
    "}"
   ]
  },
  {
   "cell_type": "code",
   "execution_count": null,
   "metadata": {
    "colab": {
     "base_uri": "https://localhost:8080/",
     "height": 17
    },
    "executionInfo": {
     "elapsed": 3565,
     "status": "ok",
     "timestamp": 1722204048033,
     "user": {
      "displayName": "Diego Rivera Buendia",
      "userId": "13268057117032771901"
     },
     "user_tz": -120
    },
    "id": "WkscaJYT9fCY",
    "outputId": "c73d701c-afe9-47f7-c0c9-d54a0b37f8e0"
   },
   "outputs": [
    {
     "data": {
      "text/html": [
       "\n",
       "            <style>\n",
       "                .geemap-dark {\n",
       "                    --jp-widgets-color: white;\n",
       "                    --jp-widgets-label-color: white;\n",
       "                    --jp-ui-font-color1: white;\n",
       "                    --jp-layout-color2: #454545;\n",
       "                    background-color: #383838;\n",
       "                }\n",
       "\n",
       "                .geemap-dark .jupyter-button {\n",
       "                    --jp-layout-color3: #383838;\n",
       "                }\n",
       "\n",
       "                .geemap-colab {\n",
       "                    background-color: var(--colab-primary-surface-color, white);\n",
       "                }\n",
       "\n",
       "                .geemap-colab .jupyter-button {\n",
       "                    --jp-layout-color3: var(--colab-primary-surface-color, white);\n",
       "                }\n",
       "            </style>\n",
       "            "
      ],
      "text/plain": [
       "<IPython.core.display.HTML object>"
      ]
     },
     "metadata": {},
     "output_type": "display_data"
    }
   ],
   "source": [
    "# Crear el mapa y configurar la vista inicial\n",
    "Mapa = geemap.Map()\n",
    "Mapa.centerObject(municipio, 12)\n",
    "Mapa.add_basemap(\"SATELLITE\")\n",
    "Mapa.add_basemap(\"OpenTopoMap\")\n",
    "\n",
    "# Crear capas de mosaico\n",
    "left_layer = geemap.ee_tile_layer(imagen_composite.clip(municipio), parametros_vis, 'Imagen Sentinel-2 RGB', opacity= 0.85)\n",
    "right_layer = geemap.ee_tile_layer(ndvi.clip(municipio), parametros_ndvi, 'NDVI', opacity= 0.85)\n",
    "\n",
    "# Utilizar split_map para mostrar ambas capas lado a lado\n",
    "Mapa.split_map(left_layer, right_layer)\n",
    "# Mostrar el mapa"
   ]
  },
  {
   "cell_type": "markdown",
   "metadata": {
    "id": "QWiBZhGrAMaY"
   },
   "source": [
    "#**Despliegue del mapa** 🗺"
   ]
  },
  {
   "cell_type": "code",
   "execution_count": null,
   "metadata": {
    "colab": {
     "base_uri": "https://localhost:8080/",
     "height": 621,
     "referenced_widgets": [
      "93993e891d714f75b4fc9bf89205e11d",
      "02f3afbc546c4e2eae4b1f127bef6643",
      "9e34017f91fe45c7aea3df429a7b17aa",
      "fc120b221ba442bd8934849c461ca3be",
      "e8630ce5dce14c6c9417a56b0828cec6",
      "30aadf93f0834f0ebd76ac91e0122e0c",
      "38b6e0b48b9042b984c3c80033cb1111",
      "614ca74624884b4cb18d3b9e91678df8",
      "c2949131c4b54befb8ab54d175309af5",
      "844f6b6e9b15450f9b2ecb52931ddbc3",
      "4344102f36084dbf9fe5f68501181c24",
      "c7f605b402074b71ade3327f270dabad",
      "9efd5701b087435ab094192beb02c0a8",
      "5ba386c6835c45dea1bafb01cc64d0be"
     ]
    },
    "executionInfo": {
     "elapsed": 360,
     "status": "ok",
     "timestamp": 1722204049698,
     "user": {
      "displayName": "Diego Rivera Buendia",
      "userId": "13268057117032771901"
     },
     "user_tz": -120
    },
    "id": "GtL1PIm49daT",
    "outputId": "dfc510ec-6e0a-400d-b87e-c71b3723fd58"
   },
   "outputs": [
    {
     "data": {
      "text/html": [
       "\n",
       "            <style>\n",
       "                .geemap-dark {\n",
       "                    --jp-widgets-color: white;\n",
       "                    --jp-widgets-label-color: white;\n",
       "                    --jp-ui-font-color1: white;\n",
       "                    --jp-layout-color2: #454545;\n",
       "                    background-color: #383838;\n",
       "                }\n",
       "\n",
       "                .geemap-dark .jupyter-button {\n",
       "                    --jp-layout-color3: #383838;\n",
       "                }\n",
       "\n",
       "                .geemap-colab {\n",
       "                    background-color: var(--colab-primary-surface-color, white);\n",
       "                }\n",
       "\n",
       "                .geemap-colab .jupyter-button {\n",
       "                    --jp-layout-color3: var(--colab-primary-surface-color, white);\n",
       "                }\n",
       "            </style>\n",
       "            "
      ],
      "text/plain": [
       "<IPython.core.display.HTML object>"
      ]
     },
     "metadata": {},
     "output_type": "display_data"
    },
    {
     "data": {
      "application/vnd.jupyter.widget-view+json": {
       "model_id": "93993e891d714f75b4fc9bf89205e11d",
       "version_major": 2,
       "version_minor": 0
      },
      "text/plain": [
       "Map(center=[19.246367725884216, -96.45007000915615], controls=(ZoomControl(options=['position', 'zoom_in_text'…"
      ]
     },
     "metadata": {
      "application/vnd.jupyter.widget-view+json": {
       "colab": {
        "custom_widget_manager": {
         "url": "https://ssl.gstatic.com/colaboratory-static/widgets/colab-cdn-widget-manager/2b70e893a8ba7c0f/manager.min.js"
        }
       }
      }
     },
     "output_type": "display_data"
    }
   ],
   "source": [
    "# Mostrar el mapa\n",
    "Mapa"
   ]
  },
  {
   "cell_type": "markdown",
   "metadata": {
    "id": "QHntO_t7U-nD"
   },
   "source": [
    "# Conclusión 🔚"
   ]
  },
  {
   "cell_type": "markdown",
   "metadata": {
    "id": "BplYNzEgUZ5G"
   },
   "source": [
    "---\n",
    "A través de este flujo de trabajo nos es posible acceder a imágenes sentinel actualizadas de cualquier municipio en México desde 2017 a la fecha. Este es un análsis sencillo pero partiendo de esta idea general podemos:\n",
    "\n",
    "1.   Generar análisis multitemporales\n",
    "2.   Crear una interfáz visual para poder exponer nuestros algoritmos\n",
    "3.   Probar otros índices de vegetación, algoritmos de clasificación regresión, etc.\n",
    "\n",
    "---\n"
   ]
  }
 ],
 "metadata": {
  "colab": {
   "authorship_tag": "ABX9TyMpOziw2XpvHRqhQuOTdC0D",
   "collapsed_sections": [
    "wDVJnLbh5k_K"
   ],
   "provenance": []
  },
  "kernelspec": {
   "display_name": "Python 3 (ipykernel)",
   "language": "python",
   "name": "python3"
  },
  "language_info": {
   "codemirror_mode": {
    "name": "ipython",
    "version": 3
   },
   "file_extension": ".py",
   "mimetype": "text/x-python",
   "name": "python",
   "nbconvert_exporter": "python",
   "pygments_lexer": "ipython3",
   "version": "3.9.19"
  },
  "widgets": {
   "application/vnd.jupyter.widget-state+json": {
    "02f3afbc546c4e2eae4b1f127bef6643": {
     "model_module": "jupyter-leaflet",
     "model_module_version": "^0.18",
     "model_name": "LeafletZoomControlModel",
     "state": {
      "_model_module": "jupyter-leaflet",
      "_model_module_version": "^0.18",
      "_model_name": "LeafletZoomControlModel",
      "_view_count": null,
      "_view_module": "jupyter-leaflet",
      "_view_module_version": "^0.18",
      "_view_name": "LeafletZoomControlView",
      "options": [
       "position",
       "zoom_in_text",
       "zoom_in_title",
       "zoom_out_text",
       "zoom_out_title"
      ],
      "position": "topleft",
      "zoom_in_text": "+",
      "zoom_in_title": "Zoom in",
      "zoom_out_text": "-",
      "zoom_out_title": "Zoom out"
     }
    },
    "30aadf93f0834f0ebd76ac91e0122e0c": {
     "model_module": "jupyter-leaflet",
     "model_module_version": "^0.18",
     "model_name": "LeafletMapStyleModel",
     "state": {
      "_model_module": "jupyter-leaflet",
      "_model_module_version": "^0.18",
      "_model_name": "LeafletMapStyleModel",
      "_view_count": null,
      "_view_module": "@jupyter-widgets/base",
      "_view_module_version": "1.2.0",
      "_view_name": "StyleView",
      "cursor": "grab"
     }
    },
    "38b6e0b48b9042b984c3c80033cb1111": {
     "model_module": "jupyter-leaflet",
     "model_module_version": "^0.18",
     "model_name": "LeafletMapStyleModel",
     "state": {
      "_model_module": "jupyter-leaflet",
      "_model_module_version": "^0.18",
      "_model_name": "LeafletMapStyleModel",
      "_view_count": null,
      "_view_module": "@jupyter-widgets/base",
      "_view_module_version": "1.2.0",
      "_view_name": "StyleView",
      "cursor": "move"
     }
    },
    "4344102f36084dbf9fe5f68501181c24": {
     "model_module": "@jupyter-widgets/base",
     "model_module_version": "1.2.0",
     "model_name": "LayoutModel",
     "state": {
      "_model_module": "@jupyter-widgets/base",
      "_model_module_version": "1.2.0",
      "_model_name": "LayoutModel",
      "_view_count": null,
      "_view_module": "@jupyter-widgets/base",
      "_view_module_version": "1.2.0",
      "_view_name": "LayoutView",
      "align_content": null,
      "align_items": null,
      "align_self": null,
      "border": null,
      "bottom": null,
      "display": null,
      "flex": null,
      "flex_flow": null,
      "grid_area": null,
      "grid_auto_columns": null,
      "grid_auto_flow": null,
      "grid_auto_rows": null,
      "grid_column": null,
      "grid_gap": null,
      "grid_row": null,
      "grid_template_areas": null,
      "grid_template_columns": null,
      "grid_template_rows": null,
      "height": "600px",
      "justify_content": null,
      "justify_items": null,
      "left": null,
      "margin": null,
      "max_height": null,
      "max_width": null,
      "min_height": null,
      "min_width": null,
      "object_fit": null,
      "object_position": null,
      "order": null,
      "overflow": null,
      "overflow_x": null,
      "overflow_y": null,
      "padding": null,
      "right": null,
      "top": null,
      "visibility": null,
      "width": null
     }
    },
    "5ba386c6835c45dea1bafb01cc64d0be": {
     "model_module": "jupyter-leaflet",
     "model_module_version": "^0.18",
     "model_name": "LeafletTileLayerModel",
     "state": {
      "_model_module": "jupyter-leaflet",
      "_model_module_version": "^0.18",
      "_model_name": "LeafletTileLayerModel",
      "_view_count": null,
      "_view_module": "jupyter-leaflet",
      "_view_module_version": "^0.18",
      "_view_name": "LeafletTileLayerView",
      "attribution": "Google Earth Engine",
      "base": false,
      "bottom": true,
      "bounds": null,
      "detect_retina": false,
      "loading": false,
      "max_native_zoom": null,
      "max_zoom": 24,
      "min_native_zoom": null,
      "min_zoom": 0,
      "name": "NDVI",
      "no_wrap": false,
      "opacity": 0.85,
      "options": [
       "attribution",
       "bounds",
       "detect_retina",
       "max_native_zoom",
       "max_zoom",
       "min_native_zoom",
       "min_zoom",
       "no_wrap",
       "tile_size",
       "tms",
       "zoom_offset"
      ],
      "pane": "",
      "popup": null,
      "popup_max_height": null,
      "popup_max_width": 300,
      "popup_min_width": 50,
      "show_loading": false,
      "subitems": [],
      "tile_size": 256,
      "tms": false,
      "url": "https://earthengine.googleapis.com/v1/projects/edu-irnr/maps/c77f97c3802a2c04d0ed251c8e4cfdb2-0bb0d2df488ebe8210b05260317ce375/tiles/{z}/{x}/{y}",
      "visible": true,
      "zoom_offset": 0
     }
    },
    "614ca74624884b4cb18d3b9e91678df8": {
     "model_module": "jupyter-leaflet",
     "model_module_version": "^0.18",
     "model_name": "LeafletTileLayerModel",
     "state": {
      "_model_module": "jupyter-leaflet",
      "_model_module_version": "^0.18",
      "_model_name": "LeafletTileLayerModel",
      "_view_count": null,
      "_view_module": "jupyter-leaflet",
      "_view_module_version": "^0.18",
      "_view_name": "LeafletTileLayerView",
      "attribution": "&copy; <a href=\"https://www.openstreetmap.org/copyright\">OpenStreetMap</a> contributors",
      "base": true,
      "bottom": true,
      "bounds": null,
      "detect_retina": false,
      "loading": false,
      "max_native_zoom": null,
      "max_zoom": 19,
      "min_native_zoom": null,
      "min_zoom": 1,
      "name": "OpenStreetMap.Mapnik",
      "no_wrap": false,
      "opacity": 1,
      "options": [
       "attribution",
       "bounds",
       "detect_retina",
       "max_native_zoom",
       "max_zoom",
       "min_native_zoom",
       "min_zoom",
       "no_wrap",
       "tile_size",
       "tms",
       "zoom_offset"
      ],
      "pane": "",
      "popup": null,
      "popup_max_height": null,
      "popup_max_width": 300,
      "popup_min_width": 50,
      "show_loading": false,
      "subitems": [],
      "tile_size": 256,
      "tms": false,
      "url": "https://tile.openstreetmap.org/{z}/{x}/{y}.png",
      "visible": true,
      "zoom_offset": 0
     }
    },
    "844f6b6e9b15450f9b2ecb52931ddbc3": {
     "model_module": "jupyter-leaflet",
     "model_module_version": "^0.18",
     "model_name": "LeafletTileLayerModel",
     "state": {
      "_model_module": "jupyter-leaflet",
      "_model_module_version": "^0.18",
      "_model_name": "LeafletTileLayerModel",
      "_view_count": null,
      "_view_module": "jupyter-leaflet",
      "_view_module_version": "^0.18",
      "_view_name": "LeafletTileLayerView",
      "attribution": "Map data: (C) OpenStreetMap contributors, SRTM | Map style: (C) OpenTopoMap (CC-BY-SA)",
      "base": false,
      "bottom": true,
      "bounds": null,
      "detect_retina": false,
      "loading": false,
      "max_native_zoom": null,
      "max_zoom": 17,
      "min_native_zoom": null,
      "min_zoom": 0,
      "name": "OpenTopoMap",
      "no_wrap": false,
      "opacity": 1,
      "options": [
       "attribution",
       "bounds",
       "detect_retina",
       "max_native_zoom",
       "max_zoom",
       "min_native_zoom",
       "min_zoom",
       "no_wrap",
       "tile_size",
       "tms",
       "zoom_offset"
      ],
      "pane": "",
      "popup": null,
      "popup_max_height": null,
      "popup_max_width": 300,
      "popup_min_width": 50,
      "show_loading": false,
      "subitems": [],
      "tile_size": 256,
      "tms": false,
      "url": "https://a.tile.opentopomap.org/{z}/{x}/{y}.png",
      "visible": true,
      "zoom_offset": 0
     }
    },
    "93993e891d714f75b4fc9bf89205e11d": {
     "model_module": "jupyter-leaflet",
     "model_module_version": "^0.18",
     "model_name": "LeafletMapModel",
     "state": {
      "_dom_classes": [],
      "_model_module": "jupyter-leaflet",
      "_model_module_version": "^0.18",
      "_model_name": "LeafletMapModel",
      "_view_count": null,
      "_view_module": "jupyter-leaflet",
      "_view_module_version": "^0.18",
      "_view_name": "LeafletMapView",
      "bottom": 7476006,
      "bounce_at_zoom_limits": true,
      "box_zoom": true,
      "center": [
       19.217924214579845,
       -96.36840533135184
      ],
      "close_popup_on_click": true,
      "controls": [
       "IPY_MODEL_02f3afbc546c4e2eae4b1f127bef6643",
       "IPY_MODEL_9e34017f91fe45c7aea3df429a7b17aa",
       "IPY_MODEL_fc120b221ba442bd8934849c461ca3be",
       "IPY_MODEL_e8630ce5dce14c6c9417a56b0828cec6"
      ],
      "crs": {
       "custom": false,
       "name": "EPSG3857"
      },
      "default_style": "IPY_MODEL_30aadf93f0834f0ebd76ac91e0122e0c",
      "double_click_zoom": true,
      "dragging": false,
      "dragging_style": "IPY_MODEL_38b6e0b48b9042b984c3c80033cb1111",
      "east": -96.3536810874939,
      "fullscreen": false,
      "inertia": true,
      "inertia_deceleration": 3000,
      "inertia_max_speed": 1500,
      "interpolation": "bilinear",
      "keyboard": true,
      "keyboard_pan_offset": 80,
      "keyboard_zoom_offset": 1,
      "layers": [
       "IPY_MODEL_614ca74624884b4cb18d3b9e91678df8",
       "IPY_MODEL_c2949131c4b54befb8ab54d175309af5",
       "IPY_MODEL_844f6b6e9b15450f9b2ecb52931ddbc3"
      ],
      "layout": "IPY_MODEL_4344102f36084dbf9fe5f68501181c24",
      "left": 3896829,
      "max_zoom": 24,
      "min_zoom": null,
      "modisdate": "2024-07-27",
      "north": 19.22400299172752,
      "options": [
       "bounce_at_zoom_limits",
       "box_zoom",
       "center",
       "close_popup_on_click",
       "double_click_zoom",
       "dragging",
       "fullscreen",
       "inertia",
       "inertia_deceleration",
       "inertia_max_speed",
       "interpolation",
       "keyboard",
       "keyboard_pan_offset",
       "keyboard_zoom_offset",
       "max_zoom",
       "min_zoom",
       "prefer_canvas",
       "scroll_wheel_zoom",
       "tap",
       "tap_tolerance",
       "touch_zoom",
       "world_copy_jump",
       "zoom",
       "zoom_animation_threshold",
       "zoom_delta",
       "zoom_snap"
      ],
      "panes": {},
      "prefer_canvas": false,
      "right": 3898201,
      "scroll_wheel_zoom": true,
      "south": 19.211845845818768,
      "style": "IPY_MODEL_30aadf93f0834f0ebd76ac91e0122e0c",
      "tap": true,
      "tap_tolerance": 15,
      "top": 7475406,
      "touch_zoom": true,
      "west": -96.38312101364137,
      "window_url": "https://wg90o1bid1p-496ff2e9c6d22116-0-colab.googleusercontent.com/outputframe.html?vrz=colab_20240725-060215_RC00_655912111",
      "world_copy_jump": false,
      "zoom": 16,
      "zoom_animation_threshold": 4,
      "zoom_delta": 1,
      "zoom_snap": 1
     }
    },
    "9e34017f91fe45c7aea3df429a7b17aa": {
     "model_module": "jupyter-leaflet",
     "model_module_version": "^0.18",
     "model_name": "LeafletFullScreenControlModel",
     "state": {
      "_model_module": "jupyter-leaflet",
      "_model_module_version": "^0.18",
      "_model_name": "LeafletFullScreenControlModel",
      "_view_count": null,
      "_view_module": "jupyter-leaflet",
      "_view_module_version": "^0.18",
      "_view_name": "LeafletFullScreenControlView",
      "options": [
       "position"
      ],
      "position": "topleft"
     }
    },
    "9efd5701b087435ab094192beb02c0a8": {
     "model_module": "jupyter-leaflet",
     "model_module_version": "^0.18",
     "model_name": "LeafletTileLayerModel",
     "state": {
      "_model_module": "jupyter-leaflet",
      "_model_module_version": "^0.18",
      "_model_name": "LeafletTileLayerModel",
      "_view_count": null,
      "_view_module": "jupyter-leaflet",
      "_view_module_version": "^0.18",
      "_view_name": "LeafletTileLayerView",
      "attribution": "Google Earth Engine",
      "base": false,
      "bottom": true,
      "bounds": null,
      "detect_retina": false,
      "loading": false,
      "max_native_zoom": null,
      "max_zoom": 24,
      "min_native_zoom": null,
      "min_zoom": 0,
      "name": "Imagen Sentinel-2 RGB",
      "no_wrap": false,
      "opacity": 0.85,
      "options": [
       "attribution",
       "bounds",
       "detect_retina",
       "max_native_zoom",
       "max_zoom",
       "min_native_zoom",
       "min_zoom",
       "no_wrap",
       "tile_size",
       "tms",
       "zoom_offset"
      ],
      "pane": "",
      "popup": null,
      "popup_max_height": null,
      "popup_max_width": 300,
      "popup_min_width": 50,
      "show_loading": false,
      "subitems": [],
      "tile_size": 256,
      "tms": false,
      "url": "https://earthengine.googleapis.com/v1/projects/edu-irnr/maps/aa0af4ec54e81042dae32e389c1035fe-8580be442511ea873af979d600c22287/tiles/{z}/{x}/{y}",
      "visible": true,
      "zoom_offset": 0
     }
    },
    "c2949131c4b54befb8ab54d175309af5": {
     "model_module": "jupyter-leaflet",
     "model_module_version": "^0.18",
     "model_name": "LeafletTileLayerModel",
     "state": {
      "_model_module": "jupyter-leaflet",
      "_model_module_version": "^0.18",
      "_model_name": "LeafletTileLayerModel",
      "_view_count": null,
      "_view_module": "jupyter-leaflet",
      "_view_module_version": "^0.18",
      "_view_name": "LeafletTileLayerView",
      "attribution": "Tiles (C) Esri -- Source: Esri, i-cubed, USDA, USGS, AEX, GeoEye, Getmapping, Aerogrid, IGN, IGP, UPR-EGP, and the GIS User Community",
      "base": false,
      "bottom": true,
      "bounds": null,
      "detect_retina": false,
      "loading": false,
      "max_native_zoom": null,
      "max_zoom": 22,
      "min_native_zoom": null,
      "min_zoom": 0,
      "name": "Esri.WorldImagery",
      "no_wrap": false,
      "opacity": 1,
      "options": [
       "attribution",
       "bounds",
       "detect_retina",
       "max_native_zoom",
       "max_zoom",
       "min_native_zoom",
       "min_zoom",
       "no_wrap",
       "tile_size",
       "tms",
       "zoom_offset"
      ],
      "pane": "",
      "popup": null,
      "popup_max_height": null,
      "popup_max_width": 300,
      "popup_min_width": 50,
      "show_loading": false,
      "subitems": [],
      "tile_size": 256,
      "tms": false,
      "url": "https://server.arcgisonline.com/ArcGIS/rest/services/World_Imagery/MapServer/tile/{z}/{y}/{x}",
      "visible": true,
      "zoom_offset": 0
     }
    },
    "c7f605b402074b71ade3327f270dabad": {
     "model_module": "jupyter-leaflet",
     "model_module_version": "^0.18",
     "model_name": "LeafletMapStyleModel",
     "state": {
      "_model_module": "jupyter-leaflet",
      "_model_module_version": "^0.18",
      "_model_name": "LeafletMapStyleModel",
      "_view_count": null,
      "_view_module": "@jupyter-widgets/base",
      "_view_module_version": "1.2.0",
      "_view_name": "StyleView",
      "cursor": "grab"
     }
    },
    "e8630ce5dce14c6c9417a56b0828cec6": {
     "model_module": "jupyter-leaflet",
     "model_module_version": "^0.18",
     "model_name": "LeafletLayersControlModel",
     "state": {
      "_model_module": "jupyter-leaflet",
      "_model_module_version": "^0.18",
      "_model_name": "LeafletLayersControlModel",
      "_view_count": null,
      "_view_module": "jupyter-leaflet",
      "_view_module_version": "^0.18",
      "_view_name": "LeafletLayersControlView",
      "collapsed": true,
      "options": [
       "collapsed",
       "position"
      ],
      "position": "topright"
     }
    },
    "fc120b221ba442bd8934849c461ca3be": {
     "model_module": "jupyter-leaflet",
     "model_module_version": "^0.18",
     "model_name": "LeafletSplitMapControlModel",
     "state": {
      "_model_module": "jupyter-leaflet",
      "_model_module_version": "^0.18",
      "_model_name": "LeafletSplitMapControlModel",
      "_view_count": null,
      "_view_module": "jupyter-leaflet",
      "_view_module_version": "^0.18",
      "_view_name": "LeafletSplitMapControlView",
      "left_layer": "IPY_MODEL_9efd5701b087435ab094192beb02c0a8",
      "options": [
       "position"
      ],
      "position": "topleft",
      "right_layer": "IPY_MODEL_5ba386c6835c45dea1bafb01cc64d0be"
     }
    }
   }
  }
 },
 "nbformat": 4,
 "nbformat_minor": 4
}
